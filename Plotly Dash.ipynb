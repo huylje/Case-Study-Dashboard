{
 "cells": [
  {
   "cell_type": "code",
   "execution_count": 6,
   "id": "5fe89f29-0b59-4bfa-a2be-0e88cded870c",
   "metadata": {},
   "outputs": [
    {
     "data": {
      "text/html": [
       "<div>\n",
       "<style scoped>\n",
       "    .dataframe tbody tr th:only-of-type {\n",
       "        vertical-align: middle;\n",
       "    }\n",
       "\n",
       "    .dataframe tbody tr th {\n",
       "        vertical-align: top;\n",
       "    }\n",
       "\n",
       "    .dataframe thead th {\n",
       "        text-align: right;\n",
       "    }\n",
       "</style>\n",
       "<table border=\"1\" class=\"dataframe\">\n",
       "  <thead>\n",
       "    <tr style=\"text-align: right;\">\n",
       "      <th></th>\n",
       "      <th>City</th>\n",
       "      <th>Hotel</th>\n",
       "      <th>Star</th>\n",
       "      <th>Price</th>\n",
       "    </tr>\n",
       "  </thead>\n",
       "  <tbody>\n",
       "    <tr>\n",
       "      <th>0</th>\n",
       "      <td>Hanoi</td>\n",
       "      <td>Madana</td>\n",
       "      <td>3</td>\n",
       "      <td>1564</td>\n",
       "    </tr>\n",
       "    <tr>\n",
       "      <th>1</th>\n",
       "      <td>Hoi An</td>\n",
       "      <td>Crist</td>\n",
       "      <td>3</td>\n",
       "      <td>1562</td>\n",
       "    </tr>\n",
       "    <tr>\n",
       "      <th>2</th>\n",
       "      <td>Hai Phong</td>\n",
       "      <td>Five</td>\n",
       "      <td>2</td>\n",
       "      <td>3526</td>\n",
       "    </tr>\n",
       "    <tr>\n",
       "      <th>3</th>\n",
       "      <td>Hoi An</td>\n",
       "      <td>Little</td>\n",
       "      <td>4</td>\n",
       "      <td>4521</td>\n",
       "    </tr>\n",
       "    <tr>\n",
       "      <th>4</th>\n",
       "      <td>Hanoi</td>\n",
       "      <td>YES</td>\n",
       "      <td>4</td>\n",
       "      <td>1235</td>\n",
       "    </tr>\n",
       "  </tbody>\n",
       "</table>\n",
       "</div>"
      ],
      "text/plain": [
       "        City   Hotel  Star  Price\n",
       "0      Hanoi  Madana     3   1564\n",
       "1     Hoi An   Crist     3   1562\n",
       "2  Hai Phong    Five     2   3526\n",
       "3     Hoi An  Little     4   4521\n",
       "4      Hanoi     YES     4   1235"
      ]
     },
     "execution_count": 6,
     "metadata": {},
     "output_type": "execute_result"
    }
   ],
   "source": [
    "import pandas as pd\n",
    "import numpy as np\n",
    "import matplotlib.pyplot as plt\n",
    "from ipywidgets import interact\n",
    "\n",
    "#Nhập dữ liệu từ file excel vào dataframe\n",
    "hotel = pd.read_excel('du_lieu_khach_san.xlsx') #file này phải cùng folder với file jupyter notebook\n",
    "hotel.head()\n",
    "#tutorial video https://www.youtube.com/watch?v=UYGwgHhazMA\n",
    "# tutorial https://www.youtube.com/watch?v=N_7A3KPZIQw"
   ]
  },
  {
   "cell_type": "code",
   "execution_count": 21,
   "id": "6b916c04-ce93-46a2-a195-b71ba6de8604",
   "metadata": {},
   "outputs": [
    {
     "data": {
      "image/png": "[encoded data removed]",
      "text/plain": [
       "<Figure size 640x480 with 1 Axes>"
      ]
     },
     "metadata": {},
     "output_type": "display_data"
    },
    {
     "data": {
      "application/vnd.jupyter.widget-view+json": {
       "model_id": "c59de90e3a044c27866a7f3cbf365e31",
       "version_major": 2,
       "version_minor": 0
      },
      "text/plain": [
       "interactive(children=(Dropdown(description='city', options=('Hanoi', 'Hoi An', 'Hai Phong', 'HCMc'), value='Ha…"
      ]
     },
     "metadata": {},
     "output_type": "display_data"
    },
    {
     "data": {
      "text/plain": [
       "<function __main__.plot_bar(city)>"
      ]
     },
     "execution_count": 21,
     "metadata": {},
     "output_type": "execute_result"
    }
   ],
   "source": [
    "#vẽ biểu đồ\n",
    "def plot_bar(city):\n",
    "    filtered_hotel = hotel[hotel['City'] == city]\n",
    "    sum = hotel['City'].value_counts().plot(\n",
    "        kind='bar')\n",
    "    plt.bar(filtered_hotel['City'], {sum})\n",
    "    plt.title(f'Count of Hotels in {city}')\n",
    "    plt.xlabel('City')\n",
    "    plt.ylabel({sum})\n",
    "    plt.show()\n",
    "\n",
    "# Tạo dropdown và kết hợp với matplotlib sử dụng interact\n",
    "interact(plot_bar, city=hotel['City'].unique())"
   ]
  },
  {
   "cell_type": "code",
   "execution_count": 12,
   "id": "f9b22488-4ac5-4331-8e94-c901c308bc4b",
   "metadata": {},
   "outputs": [
    {
     "data": {
      "image/png": "[encoded data removed]",
      "text/plain": [
       "<Figure size 900x600 with 1 Axes>"
      ]
     },
     "metadata": {},
     "output_type": "display_data"
    }
   ],
   "source": [
    "# Exact dữ liệu\n",
    "\n",
    "fig = plt.figure(figsize=(9, 6))\n",
    "hotel['Star'].value_counts().plot( #đếm số lượng KS lọc theo Star và vẽ ở dạng bar\n",
    "    kind='bar')\n",
    "plt.show() #gọi figure ra màn hình\n"
   ]
  },
  {
   "cell_type": "code",
   "execution_count": null,
   "id": "4cbd4bed-8155-4235-99c3-d57078858a30",
   "metadata": {},
   "outputs": [],
   "source": []
  },
  {
   "cell_type": "code",
   "execution_count": null,
   "id": "698f3c66-7779-4d45-9c79-665d03f85e3c",
   "metadata": {},
   "outputs": [],
   "source": []
  },
  {
   "cell_type": "code",
   "execution_count": null,
   "id": "2d149c05-c86e-42a6-a8ef-1855ee47ae1b",
   "metadata": {},
   "outputs": [],
   "source": []
  }
 ],
 "metadata": {
  "kernelspec": {
   "display_name": "Python 3 (ipykernel)",
   "language": "python",
   "name": "python3"
  },
  "language_info": {
   "codemirror_mode": {
    "name": "ipython",
    "version": 3
   },
   "file_extension": ".py",
   "mimetype": "text/x-python",
   "name": "python",
   "nbconvert_exporter": "python",
   "pygments_lexer": "ipython3",
   "version": "3.12.3"
  }
 },
 "nbformat": 4,
 "nbformat_minor": 5
}
