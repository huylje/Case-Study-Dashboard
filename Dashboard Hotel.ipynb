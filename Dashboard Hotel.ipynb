{
 "cells": [
  {
   "cell_type": "markdown",
   "id": "7a90bdf1-f042-4241-a3c6-79519605ab28",
   "metadata": {},
   "source": [
    "# Tạo Dashboard để thể hiện dữ liệu về khách sạn"
   ]
  },
  {
   "cell_type": "markdown",
   "id": "88ada4f9-c1d3-43b2-aae7-33d1a06974da",
   "metadata": {},
   "source": [
    "### Ý tưởng:\n",
    "##### Xuất phát từ nhu cầu thống kê số lượng khách sạn đang hợp tác, lọc ra top các khách sạn có giá rẻ nhất theo từng thành phố, hạng sao.\n",
    "### Khả năng mở rộng dự án:\n",
    "##### - Thêm dữ liệu về doanh thu/ số phòng đã book để lọc ra top khách sạn gửi khách nhiều nhất \n",
    "##### - Thêm đánh giá của khách hàng và lọc ra top khách sạn có chất lượng tốt, v.v."
   ]
  },
  {
   "cell_type": "code",
   "execution_count": 93,
   "id": "e25be386-9c98-4dd9-84b8-a4791b467490",
   "metadata": {},
   "outputs": [
    {
     "data": {
      "text/html": [
       "<div>\n",
       "<style scoped>\n",
       "    .dataframe tbody tr th:only-of-type {\n",
       "        vertical-align: middle;\n",
       "    }\n",
       "\n",
       "    .dataframe tbody tr th {\n",
       "        vertical-align: top;\n",
       "    }\n",
       "\n",
       "    .dataframe thead th {\n",
       "        text-align: right;\n",
       "    }\n",
       "</style>\n",
       "<table border=\"1\" class=\"dataframe\">\n",
       "  <thead>\n",
       "    <tr style=\"text-align: right;\">\n",
       "      <th></th>\n",
       "      <th>City</th>\n",
       "      <th>Hotel</th>\n",
       "      <th>Star</th>\n",
       "      <th>Price</th>\n",
       "    </tr>\n",
       "  </thead>\n",
       "  <tbody>\n",
       "    <tr>\n",
       "      <th>0</th>\n",
       "      <td>Hanoi</td>\n",
       "      <td>Madana</td>\n",
       "      <td>3</td>\n",
       "      <td>1564</td>\n",
       "    </tr>\n",
       "    <tr>\n",
       "      <th>1</th>\n",
       "      <td>Hoi An</td>\n",
       "      <td>Crist</td>\n",
       "      <td>3</td>\n",
       "      <td>1562</td>\n",
       "    </tr>\n",
       "    <tr>\n",
       "      <th>2</th>\n",
       "      <td>Hai Phong</td>\n",
       "      <td>Five</td>\n",
       "      <td>2</td>\n",
       "      <td>3526</td>\n",
       "    </tr>\n",
       "    <tr>\n",
       "      <th>3</th>\n",
       "      <td>Hoi An</td>\n",
       "      <td>Little</td>\n",
       "      <td>4</td>\n",
       "      <td>4521</td>\n",
       "    </tr>\n",
       "    <tr>\n",
       "      <th>4</th>\n",
       "      <td>Hanoi</td>\n",
       "      <td>YES</td>\n",
       "      <td>4</td>\n",
       "      <td>1235</td>\n",
       "    </tr>\n",
       "  </tbody>\n",
       "</table>\n",
       "</div>"
      ],
      "text/plain": [
       "        City   Hotel  Star  Price\n",
       "0      Hanoi  Madana     3   1564\n",
       "1     Hoi An   Crist     3   1562\n",
       "2  Hai Phong    Five     2   3526\n",
       "3     Hoi An  Little     4   4521\n",
       "4      Hanoi     YES     4   1235"
      ]
     },
     "execution_count": 93,
     "metadata": {},
     "output_type": "execute_result"
    }
   ],
   "source": [
    "import pandas as pd #pandas đọc dữ liệu theo cấu trúc bảng \n",
    "import matplotlib.pyplot as plt #matplotlib để vẽ biểu đồ\n",
    "from ipywidgets import interact #interact để tạo bộ lọc\n",
    "\n",
    "# Nhập dữ liệu từ file excel vào dataframe\n",
    "hotel = pd.read_excel('du_lieu_khach_san.xlsx')  # Cần đảm bảo file này ở cùng thư mục với notebook\n",
    "hotel.head()"
   ]
  },
  {
   "cell_type": "code",
   "execution_count": 92,
   "id": "4cbd4bed-8155-4235-99c3-d57078858a30",
   "metadata": {},
   "outputs": [
    {
     "data": {
      "application/vnd.jupyter.widget-view+json": {
       "model_id": "ef063ce0c93047d5947c94b394854d1d",
       "version_major": 2,
       "version_minor": 0
      },
      "text/plain": [
       "interactive(children=(Dropdown(description='city', options=('Hanoi', 'Hoi An', 'Hai Phong', 'HCMc'), value='Ha…"
      ]
     },
     "metadata": {},
     "output_type": "display_data"
    }
   ],
   "source": [
    "# Khai báo hàm\n",
    "def plot_dual_dashboard(city, star): #khai báo hàm có 2 tham số city và star\n",
    "    total = hotel['City'].value_counts().sort_index() \n",
    "    print(f'Total number of hotels in each city:')\n",
    "    print(total.to_string()) #ép kiểu thành string, nếu không sẽ hiển thị dòng Name: count, dtype: int64 ở cuối\n",
    "    print()#tạo thêm space giữa 2 biểu đồ cho đẹp\n",
    "\n",
    "    #tạo bộ lọc\n",
    "    filtered_city = hotel[hotel['City'] == city] #tạo bộ lọc theo city, hotel['City'] để gọi ra series dữ liệu thuộc cột City trong dataframe hotel\n",
    "    \n",
    "    # Biểu đồ 1: Đến số lượng khách sạn theo hạng sao\n",
    "    plt.figure(figsize=(5, 3)) #kích cỡ của biểu đồ\n",
    "    star_counts = filtered_city['Star'].value_counts().sort_index() \n",
    "    #value_counts đếm số lần xuất hiện theo giá trị star, sort_index để sắp xếp hiển thị lần lượt theo số sao tăng dần\n",
    "    \n",
    "    plt.bar(star_counts.index.astype(str), star_counts.values.astype(int), color='green')\n",
    "    #hàm trong matplotlib để vẽ biểu đồ, ép kiểu cho các chỉ số (string) thành string, ép kiểu giá trị đã đếm theo star thành kiểu int\n",
    "   \n",
    "    plt.title(f'Count of Hotels by Star Rating in {city}')\n",
    "    plt.xlabel('Star Rating')\n",
    "    plt.ylabel('Count')\n",
    "    plt.grid(True) #thêm lưới hoặc không\n",
    "    plt.show()\n",
    "    print()\n",
    "\n",
    "    # Biểu đồ 2: Top 3 khách sạn có giá thấp nhất\n",
    "    filtered_star = filtered_city[filtered_city['Star'] == star]\n",
    "    top_3_lowest_priced = filtered_star.nsmallest(3, 'Price')\n",
    "\n",
    "    print(f'Top 3 Lowest Priced {star} Stars Hotels in {city}:')\n",
    "    print(top_3_lowest_priced[['Hotel', 'Price']])\n",
    "    print() \n",
    "\n",
    "    # Plot bar chart for top 5 lowest priced hotels\n",
    "    plt.figure(figsize=(5, 3))\n",
    "    plt.bar(top_3_lowest_priced['Hotel'], top_3_lowest_priced['Price'], color='green')\n",
    "    plt.title(f'Top 3 Lowest Priced {star} Stars Hotels in {city}')\n",
    "    plt.xlabel('Hotel')\n",
    "    plt.ylabel('Price')\n",
    "    plt.grid(True) #thêm lưới hoặc không\n",
    "    plt.tight_layout()\n",
    "    plt.show()\n",
    "\n",
    "# Create interactive dashboard using interact\n",
    "interact(plot_dual_dashboard, city=hotel['City'].unique(), star=hotel['Star'].unique());\n",
    "\n",
    "#interact(tên hàm muốn tương tác, đối số để tạo dropdown)\n",
    "#cú pháp unique() trong pandas để trích xuất danh sách"
   ]
  }
 ],
 "metadata": {
  "kernelspec": {
   "display_name": "Python 3 (ipykernel)",
   "language": "python",
   "name": "python3"
  },
  "language_info": {
   "codemirror_mode": {
    "name": "ipython",
    "version": 3
   },
   "file_extension": ".py",
   "mimetype": "text/x-python",
   "name": "python",
   "nbconvert_exporter": "python",
   "pygments_lexer": "ipython3",
   "version": "3.12.3"
  }
 },
 "nbformat": 4,
 "nbformat_minor": 5
}
